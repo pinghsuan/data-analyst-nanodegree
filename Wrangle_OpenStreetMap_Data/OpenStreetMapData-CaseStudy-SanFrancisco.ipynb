{
 "cells": [
  {
   "cell_type": "markdown",
   "metadata": {},
   "source": [
    "### Map Area"
   ]
  },
  {
   "cell_type": "markdown",
   "metadata": {},
   "source": [
    "[San Francisco](https://goo.gl/PWSfft), in northern California, is a hilly city on the tip of a peninsula surrounded by the Pacific Ocean and San Francisco Bay. It's known for its year-round fog, iconic Golden Gate Bridge, cable cars and colorful Victorian houses. The Financial District's Transamerica Pyramid is its most distinctive skyscraper. In the bay sits Alcatraz Island, site of the notorious former prison. \n",
    "\n",
    "I choose San Francisco as the area for this project because I was planning a trip to this city, so it would be a great chance for me to explore the city while I prepare for my visit.\n",
    "\n",
    "Link to San Francisco metro extract:\n",
    "https://mapzen.com/data/metro-extracts/metro/san-francisco_california/"
   ]
  },
  {
   "cell_type": "markdown",
   "metadata": {},
   "source": [
    "### Load File & Import Functions"
   ]
  },
  {
   "cell_type": "code",
   "execution_count": 1,
   "metadata": {
    "collapsed": false
   },
   "outputs": [],
   "source": [
    "OSMFILE = 'san-francisco_california.osm'\n",
    "import functions_osm_auditing as auditing\n",
    "import functions_osm_database as database"
   ]
  },
  {
   "cell_type": "markdown",
   "metadata": {},
   "source": [
    "### Improving Street Names\n",
    "\n",
    "One major problem in the Map is that the street names are not uniformalized - for example some street names are overabbreviated. \n",
    "So what I am going to do here is to get the street types of loaded osm file, and update mapping dictionary accordingly."
   ]
  },
  {
   "cell_type": "code",
   "execution_count": 2,
   "metadata": {
    "collapsed": false
   },
   "outputs": [],
   "source": [
    "# define mapping dictionary\n",
    "mapping = { \"St\": \"Street\",\n",
    "            \"St.\": \"Street\",\n",
    "            \"Rd.\": \"Road\",\n",
    "            \"Ave\": \"Avenue\",\n",
    "            \"Rd\" : \"Road\"\n",
    "            }\n",
    "\n",
    "# get the street types of loaded osm file\n",
    "street_types_found = auditing.audit(OSMFILE)\n",
    "\n",
    "# add newly-found street types in osm file into pre-defined mapping above\n",
    "new_mapping = auditing.update_mapping(mapping, street_types_found)"
   ]
  },
  {
   "cell_type": "markdown",
   "metadata": {},
   "source": [
    "### Preparing for Database\n",
    "\n",
    "#### Writing into XML\n",
    "Rename street names found in osm file according to the new_mapping dictionary that I just updated, and save the processed street names into a new xml file."
   ]
  },
  {
   "cell_type": "code",
   "execution_count": 3,
   "metadata": {
    "collapsed": false
   },
   "outputs": [],
   "source": [
    "auditing.clean_osm(OSMFILE,new_mapping,'processed_SanFrancisco')"
   ]
  },
  {
   "cell_type": "markdown",
   "metadata": {},
   "source": [
    "#### Writing into csv\n",
    "Save processed xml file into 5 csv files for later database build."
   ]
  },
  {
   "cell_type": "code",
   "execution_count": 4,
   "metadata": {
    "collapsed": false
   },
   "outputs": [],
   "source": [
    "# specify path for later SQL database build usage\n",
    "OSM_PATH = \"processed_SanFrancisco.xml\"\n",
    "NODES_PATH = \"SanFrancisco_nodes.csv\"\n",
    "NODE_TAGS_PATH = \"SanFrancisco_nodes_tags.csv\"\n",
    "WAYS_PATH = \"SanFrancisco_ways.csv\"\n",
    "WAY_NODES_PATH = \"SanFrancisco_ways_nodes.csv\"\n",
    "WAY_TAGS_PATH = \"SanFrancisco_ways_tags.csv\"\n",
    "\n",
    "# save processed xml file into csv files\n",
    "database.process_map(OSM_PATH, False)"
   ]
  },
  {
   "cell_type": "markdown",
   "metadata": {},
   "source": [
    "### Load in SQL\n",
    "\n",
    "Import packages for SQL and for query result printout"
   ]
  },
  {
   "cell_type": "code",
   "execution_count": 5,
   "metadata": {
    "collapsed": true
   },
   "outputs": [],
   "source": [
    "import sqlite3\n",
    "import pprint\n",
    "\n",
    "# connect to database\n",
    "db = sqlite3.connect('SanFrancisco.db')\n",
    "db.text_factory = str\n",
    "cur = db.cursor()"
   ]
  },
  {
   "cell_type": "markdown",
   "metadata": {},
   "source": [
    "Create SQL tables for later query"
   ]
  },
  {
   "cell_type": "code",
   "execution_count": 6,
   "metadata": {
    "collapsed": false
   },
   "outputs": [],
   "source": [
    "# create table 'nodes'\n",
    "import csv\n",
    "\n",
    "cur.execute('''CREATE TABLE nodes(\n",
    "    id INTEGER PRIMARY KEY NOT NULL,\n",
    "    lat REAL,\n",
    "    lon REAL,\n",
    "    user TEXT,\n",
    "    uid INTEGER,\n",
    "    version INTEGER,\n",
    "    changeset INTEGER,\n",
    "    timestamp TEXT\n",
    ");''')\n",
    "\n",
    "\n",
    "with open(NODES_PATH,'r') as nodes:\n",
    "    dr = csv.DictReader(nodes)\n",
    "    to_db = [(i['id'], i['lat'], i['lon'], i['user'], i['uid'], i['version'], i['changeset'], i['timestamp']) for i in dr]\n",
    "\n",
    "cur.executemany(\"INSERT INTO nodes VALUES (?,?,?,?,?,?,?,?);\", to_db)\n",
    "\n",
    "db.commit()"
   ]
  },
  {
   "cell_type": "code",
   "execution_count": 7,
   "metadata": {
    "collapsed": false
   },
   "outputs": [],
   "source": [
    "# create table 'nodes_tags'\n",
    "\n",
    "cur.execute('''CREATE TABLE nodes_tags (\n",
    "    id INTEGER,\n",
    "    key TEXT,\n",
    "    value TEXT,\n",
    "    type TEXT,\n",
    "    FOREIGN KEY (id) REFERENCES nodes(id)\n",
    ");\n",
    "''')\n",
    "\n",
    "\n",
    "with open(NODE_TAGS_PATH,'r') as nodes_tags:\n",
    "    dr = csv.DictReader(nodes_tags)\n",
    "    to_db = [(i['id'], i['key'], i['value'], i['type']) for i in dr]\n",
    "\n",
    "cur.executemany(\"INSERT INTO nodes_tags VALUES (?,?,?,?);\", to_db)\n",
    "\n",
    "db.commit()"
   ]
  },
  {
   "cell_type": "code",
   "execution_count": 8,
   "metadata": {
    "collapsed": false
   },
   "outputs": [],
   "source": [
    "# create table 'ways'\n",
    "\n",
    "cur.execute('''CREATE TABLE ways (\n",
    "    id INTEGER PRIMARY KEY NOT NULL,\n",
    "    user TEXT,\n",
    "    uid INTEGER,\n",
    "    version TEXT,\n",
    "    changeset INTEGER,\n",
    "    timestamp TEXT\n",
    ");\n",
    "''')\n",
    "\n",
    "\n",
    "with open(WAYS_PATH,'r') as ways:\n",
    "    dr = csv.DictReader(ways)\n",
    "    to_db = [(i['id'], i['user'], i['uid'], i['version'], i['changeset'], i['timestamp']) for i in dr]\n",
    "\n",
    "cur.executemany(\"INSERT INTO ways VALUES (?,?,?,?,?,?);\", to_db)\n",
    "\n",
    "db.commit()"
   ]
  },
  {
   "cell_type": "code",
   "execution_count": 9,
   "metadata": {
    "collapsed": false
   },
   "outputs": [],
   "source": [
    "# create table 'ways_nodes'\n",
    "\n",
    "cur.execute('''CREATE TABLE ways_nodes (\n",
    "    id INTEGER NOT NULL,\n",
    "    node_id INTEGER NOT NULL,\n",
    "    position INTEGER NOT NULL,\n",
    "    FOREIGN KEY (id) REFERENCES ways(id),\n",
    "    FOREIGN KEY (node_id) REFERENCES nodes(id)\n",
    ");\n",
    "''')\n",
    "\n",
    "\n",
    "with open(WAY_NODES_PATH,'r') as ways_nodes:\n",
    "    dr = csv.DictReader(ways_nodes)\n",
    "    to_db = [(i['id'], i['node_id'], i['position']) for i in dr]\n",
    "\n",
    "cur.executemany(\"INSERT INTO ways_nodes VALUES (?,?,?);\", to_db)\n",
    "\n",
    "db.commit()"
   ]
  },
  {
   "cell_type": "code",
   "execution_count": 10,
   "metadata": {
    "collapsed": false
   },
   "outputs": [],
   "source": [
    "# create table 'ways_tags'\n",
    "\n",
    "cur.execute('''CREATE TABLE ways_tags (\n",
    "    id INTEGER NOT NULL,\n",
    "    key TEXT NOT NULL,\n",
    "    value TEXT NOT NULL,\n",
    "    type TEXT,\n",
    "    FOREIGN KEY (id) REFERENCES ways(id)\n",
    ");\n",
    "''')\n",
    "\n",
    "\n",
    "with open(WAY_TAGS_PATH,'r') as ways_tags:\n",
    "    dr = csv.DictReader(ways_tags)\n",
    "    to_db = [(i['id'], i['key'], i['value'], i['type']) for i in dr]\n",
    "\n",
    "cur.executemany(\"INSERT INTO ways_tags VALUES (?,?,?,?);\", to_db)\n",
    "\n",
    "db.commit()"
   ]
  },
  {
   "cell_type": "markdown",
   "metadata": {},
   "source": [
    "### Data Exploration"
   ]
  },
  {
   "cell_type": "markdown",
   "metadata": {},
   "source": [
    "#### File Sizes"
   ]
  },
  {
   "cell_type": "code",
   "execution_count": 11,
   "metadata": {
    "collapsed": false
   },
   "outputs": [
    {
     "name": "stdout",
     "output_type": "stream",
     "text": [
      "Size of original OSM file is around 1.31 GB\n",
      "Size of processed csv file, nodes, is around 528.66 MB\n",
      "Size of processed csv file, nodes_tags, is around 9.14 MB\n",
      "Size of processed csv file, ways, is around 47.98 MB\n",
      "Size of processed csv file, ways_nodes, is around 179.89 MB\n",
      "Size of processed csv file, ways_tags, is around 56.27 MB\n"
     ]
    }
   ],
   "source": [
    "import os\n",
    "import math\n",
    "\n",
    "def convert_size(size_bytes):\n",
    "   if size_bytes == 0:\n",
    "       return \"0B\"\n",
    "   size_name = (\"B\", \"KB\", \"MB\", \"GB\", \"TB\", \"PB\", \"EB\", \"ZB\", \"YB\")\n",
    "   i = int(math.floor(math.log(size_bytes, 1024)))\n",
    "   p = math.pow(1024, i)\n",
    "   s = round(size_bytes / p, 2)\n",
    "   return \"%s %s\" % (s, size_name[i])\n",
    "\n",
    "print 'Size of original OSM file is around %s'%convert_size(os.path.getsize(OSMFILE))\n",
    "print 'Size of processed csv file, nodes, is around %s'%convert_size(os.path.getsize(NODES_PATH))\n",
    "print 'Size of processed csv file, nodes_tags, is around %s'%convert_size(os.path.getsize(NODE_TAGS_PATH))\n",
    "print 'Size of processed csv file, ways, is around %s'%convert_size(os.path.getsize(WAYS_PATH))\n",
    "print 'Size of processed csv file, ways_nodes, is around %s'%convert_size(os.path.getsize(WAY_NODES_PATH))\n",
    "print 'Size of processed csv file, ways_tags, is around %s'%convert_size(os.path.getsize(WAY_TAGS_PATH))"
   ]
  },
  {
   "cell_type": "markdown",
   "metadata": {},
   "source": [
    "#### Contributing Users "
   ]
  },
  {
   "cell_type": "code",
   "execution_count": 12,
   "metadata": {
    "collapsed": false
   },
   "outputs": [
    {
     "name": "stdout",
     "output_type": "stream",
     "text": [
      "Number of unique users contribuing to this area of OpenStreetMap:\n",
      "[(2750,)]\n",
      "--\n",
      "Top 5 users who contributed to the map area:\n",
      "[('andygol', 1496526),\n",
      " ('ediyes', 887715),\n",
      " ('Luis36995', 679823),\n",
      " ('dannykath', 546182),\n",
      " ('RichRico', 415950)]\n"
     ]
    }
   ],
   "source": [
    "cur.execute(\"SELECT COUNT(DISTINCT(un.uid)) FROM (SELECT uid FROM nodes UNION ALL SELECT uid FROM ways) un;\")\n",
    "print 'Number of unique users contribuing to this area of OpenStreetMap:'\n",
    "pprint.pprint(cur.fetchall())\n",
    "\n",
    "print '--'\n",
    "\n",
    "cur.execute(\"SELECT un.user, COUNT(*) as total FROM (SELECT user FROM nodes UNION ALL SELECT user FROM ways) un \\\n",
    "GROUP BY un.user ORDER BY total DESC LIMIT 5;\")\n",
    "print 'Top 5 users who contributed to the map area:'\n",
    "pprint.pprint(cur.fetchall())"
   ]
  },
  {
   "cell_type": "markdown",
   "metadata": {},
   "source": [
    "#### Number of Nodes & Ways"
   ]
  },
  {
   "cell_type": "code",
   "execution_count": 13,
   "metadata": {
    "collapsed": false
   },
   "outputs": [
    {
     "name": "stdout",
     "output_type": "stream",
     "text": [
      "# of nodes:\n",
      "[(6609426,)]\n",
      "--\n",
      "# of ways:\n",
      "[(822370,)]\n"
     ]
    }
   ],
   "source": [
    "cur.execute(\"SELECT count(DISTINCT(id)) FROM nodes;\")\n",
    "print '# of nodes:'\n",
    "pprint.pprint(cur.fetchall())\n",
    "\n",
    "print '--'\n",
    "\n",
    "cur.execute(\"SELECT count(DISTINCT(id)) FROM ways;\")\n",
    "print '# of ways:'\n",
    "pprint.pprint(cur.fetchall())"
   ]
  },
  {
   "cell_type": "markdown",
   "metadata": {},
   "source": [
    "#### But First, Coffee\n",
    "See how many coffee shops are there in San Francisco for Blue Bottle, Philz, Starbucks and Peet's respectively"
   ]
  },
  {
   "cell_type": "code",
   "execution_count": 14,
   "metadata": {
    "collapsed": false
   },
   "outputs": [
    {
     "name": "stdout",
     "output_type": "stream",
     "text": [
      "# of Blue Bottle Coffee:\n",
      "[(11,)]\n",
      "--\n",
      "# of Philz Coffee:\n",
      "[(12,)]\n",
      "--\n",
      "# of Starbucks Coffee:\n",
      "[(137,)]\n",
      "--\n",
      "# of Peet's Coffee & Tea:\n",
      "[(64,)]\n"
     ]
    }
   ],
   "source": [
    "# See how many famouse 'Blue Bottle' coffee shops are there in San Francisco\n",
    "cur.execute(\"SELECT count(*) FROM (SELECT * FROM nodes_tags UNION ALL SELECT * FROM ways_tags) un \\\n",
    "            WHERE un.value like '%Blue Bottle%' AND un.key = 'name';\")\n",
    "print '# of Blue Bottle Coffee:'\n",
    "pprint.pprint(cur.fetchall())\n",
    "print '--'\n",
    "\n",
    "# How many 'Philz' are there? Their mint mojito is one of my favorite\n",
    "cur.execute(\"SELECT count(*) FROM (SELECT * FROM nodes_tags UNION ALL SELECT * FROM ways_tags) un \\\n",
    "            WHERE un.value like '%Philz%' AND un.key = 'name';\")\n",
    "print '# of Philz Coffee:'\n",
    "pprint.pprint(cur.fetchall())\n",
    "print '--'\n",
    "\n",
    "# How about 'Starbucks'\n",
    "cur.execute(\"SELECT count(*) FROM (SELECT * FROM nodes_tags UNION ALL SELECT * FROM ways_tags) un \\\n",
    "            WHERE un.value like '%Starbucks' AND un.key = 'name';\")\n",
    "print '# of Starbucks Coffee:'\n",
    "pprint.pprint(cur.fetchall())\n",
    "print '--'\n",
    "\n",
    "# How about \"Peet's Coffee & Tea\"?\n",
    "cur.execute(\"SELECT count(*) FROM (SELECT * FROM nodes_tags UNION ALL SELECT * FROM ways_tags) un \\\n",
    "            WHERE un.value like '%Peet%' AND un.key = 'name';\")\n",
    "print \"# of Peet's Coffee & Tea:\"\n",
    "pprint.pprint(cur.fetchall())"
   ]
  },
  {
   "cell_type": "markdown",
   "metadata": {},
   "source": [
    "#### Going Spiritual\n",
    "See how many data points are there for different religions respectively"
   ]
  },
  {
   "cell_type": "code",
   "execution_count": 15,
   "metadata": {
    "collapsed": false
   },
   "outputs": [
    {
     "name": "stdout",
     "output_type": "stream",
     "text": [
      "[('christian', 1062),\n",
      " ('buddhist', 43),\n",
      " ('jewish', 20),\n",
      " ('muslim', 10),\n",
      " ('unitarian_universalist', 5),\n",
      " ('hindu', 3),\n",
      " ('taoist', 3),\n",
      " ('perfect_liberty', 2),\n",
      " ('scientologist', 2),\n",
      " ('bahai', 1),\n",
      " ('eckankar', 1),\n",
      " ('humanist', 1),\n",
      " ('shinto', 1),\n",
      " ('spiritualist', 1)]\n"
     ]
    }
   ],
   "source": [
    "cur.execute (\"SELECT un.value, COUNT(*) as count FROM (SELECT * FROM nodes_tags UNION ALL SELECT * FROM ways_tags) un \\\n",
    "            WHERE un.key = 'religion' GROUP BY un.value ORDER BY count DESC;\")\n",
    "pprint.pprint(cur.fetchall())"
   ]
  },
  {
   "cell_type": "markdown",
   "metadata": {},
   "source": [
    "#### International Cuisines\n",
    "San Francisco is a city with many immigrants and ethnic groups. I am curious what are the top cuisine types in this city"
   ]
  },
  {
   "cell_type": "code",
   "execution_count": 16,
   "metadata": {
    "collapsed": false
   },
   "outputs": [
    {
     "name": "stdout",
     "output_type": "stream",
     "text": [
      "[('mexican', 300),\n",
      " ('coffee_shop', 267),\n",
      " ('pizza', 224),\n",
      " ('chinese', 207),\n",
      " ('burger', 200),\n",
      " ('japanese', 165),\n",
      " ('italian', 150),\n",
      " ('sandwich', 147),\n",
      " ('american', 139),\n",
      " ('thai', 117),\n",
      " ('vietnamese', 84),\n",
      " ('indian', 76),\n",
      " ('sushi', 75),\n",
      " ('asian', 60),\n",
      " ('seafood', 47),\n",
      " ('ice_cream', 46),\n",
      " ('french', 39),\n",
      " ('mediterranean', 26),\n",
      " ('regional', 25),\n",
      " ('chicken', 23)]\n"
     ]
    }
   ],
   "source": [
    "cur.execute (\"SELECT un.value, COUNT(*) as count FROM (SELECT * FROM nodes_tags UNION ALL SELECT * FROM ways_tags) un \\\n",
    "            WHERE un.key = 'cuisine' GROUP BY un.value ORDER BY count DESC LIMIT 20;\")\n",
    "pprint.pprint(cur.fetchall())"
   ]
  },
  {
   "cell_type": "markdown",
   "metadata": {},
   "source": [
    "#### Museum Lover's Guide\n",
    "A list of museums in San Francisco for a museum lover like me "
   ]
  },
  {
   "cell_type": "code",
   "execution_count": 17,
   "metadata": {
    "collapsed": false
   },
   "outputs": [
    {
     "name": "stdout",
     "output_type": "stream",
     "text": [
      "[('African American Museum and Library at Oakland',),\n",
      " ('Alameda Museum',),\n",
      " ('American Carousel Museum',),\n",
      " ('Ardenwood Forge',),\n",
      " ('Bay Area Discovery Museum',),\n",
      " ('Berkeley Historical Society',),\n",
      " ('Blake Garden',),\n",
      " ('Bolinas Museum',),\n",
      " ('California Crafts Museum',),\n",
      " ('California Historical Radio Society Bay Area Radio Museum',),\n",
      " ('California Historical Society Museum',),\n",
      " ('California Historical Society Museum & Bookstore',),\n",
      " ('California Society of Pioneers Museum and Library',),\n",
      " ('Cartoon Art Museum (closed)',),\n",
      " ('Childrens Multicultural Museum',),\n",
      " ('Chinese Historical Society of America',),\n",
      " ('Cohen Bray House',),\n",
      " ('Crissy Field Center',),\n",
      " ('CuriOdyssey',),\n",
      " ('Ebony Museum Of Art',),\n",
      " ('Exploratorium',),\n",
      " ('GLBT History Museum',),\n",
      " ('Golden State Model Railroad Museum',),\n",
      " (\"Habitot Children's Museum\",),\n",
      " ('Hearst Museum of Anthropology',),\n",
      " ('Jewish Community Museum',),\n",
      " ('Lightship Relief',),\n",
      " ('McConaghy House',),\n",
      " ('Morrison Planetarium',),\n",
      " ('Museo Italo Americano',),\n",
      " ('Museum of Craft Design',),\n",
      " ('Museum of Ophthalmology',),\n",
      " ('Museum of Russian Culture',),\n",
      " ('Museum of the African Diaspora',),\n",
      " ('Mus\\xc3\\xa9e M\\xc3\\xa9canique',),\n",
      " ('Nike Missile Site SF-88',),\n",
      " ('Oakland Aviation Museum',),\n",
      " ('Old Jail',),\n",
      " ('Pacific Heritage Museum',),\n",
      " ('Pardee Home Museum',),\n",
      " ('Peralta Hacienda Historical',),\n",
      " ('Pier 24',),\n",
      " ('San Carlos Historical Museum',),\n",
      " ('San Francisco International Toy Museum',),\n",
      " ('San Francisco Railway Musuem',),\n",
      " ('San Francisco Sea Scout Base',),\n",
      " ('Sanchez Adobe Museum',),\n",
      " ('Steinhart Aquarium',),\n",
      " ('The Beat Museum',),\n",
      " ('The Mexican Museum',),\n",
      " ('The Museum of Art and Digital Entertainment',),\n",
      " ('Treasure Island Museum',),\n",
      " ('USS Hornet Museum',),\n",
      " ('USS Potomac',),\n",
      " ('Walnut Creek Model Railroad Society',),\n",
      " ('Wells Fargo History Museum',)]\n"
     ]
    }
   ],
   "source": [
    "cur.execute (\"SELECT distinct(nt.value) FROM nodes_tags nt JOIN \\\n",
    "            (SELECT distinct(id) FROM nodes_tags WHERE value='museum') un ON nt.id = un.id WHERE nt.key = 'name' \\\n",
    "            ORDER BY nt.value;\")\n",
    "pprint.pprint(cur.fetchall())"
   ]
  },
  {
   "cell_type": "code",
   "execution_count": 18,
   "metadata": {
    "collapsed": true
   },
   "outputs": [],
   "source": [
    "db.close()"
   ]
  },
  {
   "cell_type": "markdown",
   "metadata": {},
   "source": [
    "### Additional Ideas \n",
    "\n",
    "#### Challenge Encountered \n",
    "During wrangling with San Francisco's open street map, I encountered some issues that I found quite challenging:\n",
    "- Size of file is quite big to process\n",
    "- Many of street names are not standardized, e.g. street vs. str.\n",
    "- Some street names are not at the end of string, which make data cleaning work more complicated. e.g. 'Sansome St #3500’\n",
    "\n",
    "\n",
    "#### Improvement Suggestion\n",
    "\n",
    "While exploring the dataset, there's no clue to me how a certain data point is rated. For example if I want to find a museum to visit, I have no idea how to select in the 50+ museums. It will be great to add additional information of how a place is rated.\n",
    "\n",
    "\n",
    "#### Benefits/Problem with Improvement Discussed\n",
    "\n",
    "\n",
    "Although adding rating information for datapoints, say rating of restaurants, would improve convenience to users, it will increase the complexity of maintaining data - since ratings change more often than other information, maintaining it for a total-volunteer-maintained map could be not that feasible. \n"
   ]
  },
  {
   "cell_type": "markdown",
   "metadata": {},
   "source": [
    "### References\n",
    "\n",
    "- [Udacity DAND forum - Data Wrangling](https://discussions.udacity.com/c/nd002-data-wrangling)\n",
    "- [Stackoverflow](https://stackoverflow.com)\n",
    "- [csv Package Documentation](https://docs.python.org/2/library/csv.html)\n",
    "- [SQLite Documentation](https://sqlite.org/docs.html)\n",
    "- [xml.etree.ElementTree Documentation](https://docs.python.org/2/library/xml.etree.elementtree.html)\n",
    "- [Convert File Sizes in Python](https://stackoverflow.com/questions/5194057/better-way-to-convert-file-sizes-in-python)\n",
    "- [SQLite Module in Python](http://www.bogotobogo.com/python/python_sqlite_connect_create_drop_table.php)"
   ]
  }
 ],
 "metadata": {
  "kernelspec": {
   "display_name": "Python 2",
   "language": "python",
   "name": "python2"
  },
  "language_info": {
   "codemirror_mode": {
    "name": "ipython",
    "version": 2
   },
   "file_extension": ".py",
   "mimetype": "text/x-python",
   "name": "python",
   "nbconvert_exporter": "python",
   "pygments_lexer": "ipython2",
   "version": "2.7.10"
  }
 },
 "nbformat": 4,
 "nbformat_minor": 0
}
